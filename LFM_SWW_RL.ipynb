{
 "cells": [
  {
   "cell_type": "code",
   "execution_count": 17,
   "metadata": {},
   "outputs": [],
   "source": [
    "import matplotlib.pyplot as plt\n",
    "import numpy as np\n",
    "\n",
    "from utility import *\n",
    "\n",
    "from scipy.fft import fft, ifft, fftfreq, fftshift\n",
    "import scipy.signal\n",
    "\n",
    "from tensorforce.environments import Environment\n",
    "from tensorforce.agents import Agent"
   ]
  },
  {
   "cell_type": "markdown",
   "metadata": {},
   "source": [
    "# Radar Environment Setup"
   ]
  },
  {
   "cell_type": "code",
   "execution_count": 18,
   "metadata": {},
   "outputs": [],
   "source": [
    "# implement the radar environment\n",
    "class RadarEnvironment(Environment):\n",
    "    def __init__(self, basis_freqs):\n",
    "        \"\"\"[summary]\n",
    "\n",
    "        Args:\n",
    "            basis_freqs ([type] Nx1 numpy array): [description] contains N basis angular freqs\n",
    "            max_timesteps ([type] int ): [description] the maximum number of timesteps per episode\n",
    "        \"\"\"\n",
    "\n",
    "        # define environment hyperparameters (in this case, the hyperparameters are the radar waveform set parameterization)\n",
    "        self.basis_freqs = basis_freqs\n",
    "        self.N = self.basis_freqs.size\n",
    "        self.band_width = np.max(self.basis_freqs) - np.min(self.basis_freqs)\n",
    "        self.Fs = 2 * self.band_width  # sampling frequency for the radar waveform\n",
    "        # duration is two periods of the exponential with the smallest freq\n",
    "        self.duration = (0, 2 * 1.0 / np.min(np.abs(self.basis_freqs)))\n",
    "\n",
    "        super().__init__()\n",
    "\n",
    "    def states(self):\n",
    "        return dict(type='float', shape=(self.N, 1), min_value=-1.0, max_value=1.0)\n",
    "\n",
    "    # # Q: does action have to be discrete??\n",
    "    # def actions(self):\n",
    "    #     # 0: -0.1, 1: 0, 2: 0.1\n",
    "    #     return dict(type='int', shape=(self.N, 1), num_values =3)\n",
    "\n",
    "    def actions(self):\n",
    "        # 0: -0.1, 1: 0, 2: 0.1\n",
    "        return dict(type='float', shape=(self.N, 1), min_value=-1.0, max_value=1.0)\n",
    "\n",
    "\n",
    "    def action_map(self, actions):\n",
    "        \"\"\"[summary] 0: -0.1, 1: 0, 2: 0.1\n",
    "            e.g. \n",
    "\n",
    "            actions repr used by agent: [0 1 2 1 1].T --> actions repr used by the environment [-0.1 0 0.1 0 0].T\n",
    "\n",
    "        Args:\n",
    "            actions ([type]): [description] the actions repr used by the agent\n",
    "\n",
    "        Returns:\n",
    "            [type]: [description] the actions repr used by the environment\n",
    "        \"\"\"\n",
    "        return -0.1 + 0.1 * actions\n",
    "\n",
    "    def max_episode_timesteps(self):\n",
    "        return super().max_episode_timesteps()\n",
    "\n",
    "    def close(self):\n",
    "        super().close()\n",
    "\n",
    "    def reset(self):\n",
    "        self.timestep = 0\n",
    "        self.current_state = np.random.uniform(\n",
    "            low=-1.0, high=1.0, size=(self.N, 1))\n",
    "\n",
    "        return self.current_state\n",
    "\n",
    "    #####################################################################\n",
    "    # Utility functions for computing waveform parameters\n",
    "    #####################################################################\n",
    "\n",
    "    @staticmethod\n",
    "    def freqD_to_timeD(state, duration, basis_freqs, Fs):\n",
    "        \"\"\"[summary] convert the waveform parameters to its time domain representation\n",
    "\n",
    "        Args:\n",
    "            state ([type]): [description] a column vector (2D np array with shape (N, 1))\n",
    "            duration ([type] a tuple (start_time, end_time)): [description]\n",
    "            basis_freqs ([type] column vector): [description]\n",
    "            BW ([type] scalar): [description]\n",
    "            Fs ([type] scalar): [description]\n",
    "\n",
    "        Returns:\n",
    "            [type]: [description] p_b is a row vector, a row vector is a 2-D np array with shape(1, N)\n",
    "        \"\"\"\n",
    "\n",
    "        w = 2*np.pi*basis_freqs\n",
    "\n",
    "        a = state.T\n",
    "        t = np.arange(duration[0], duration[1], 1.0/Fs).reshape((1, -1))\n",
    "\n",
    "        A = w @ t\n",
    "\n",
    "        p_b = a @ np.exp(1j * A)  # here p_b is a row vector\n",
    "\n",
    "        return p_b\n",
    "\n",
    "    @staticmethod\n",
    "    def point_spread_fn(p_b, Fs):\n",
    "        \"\"\"[summary] assume p_b is a row vector. \n",
    "            convert the p_b, a time domain repr of the baseband signal, into its point spread function, \n",
    "            a complex-valued function\n",
    "\n",
    "        Args:\n",
    "            p_b ([type]): [description] a row vector\n",
    "            Fs ([type]): [description] sampling frequency\n",
    "\n",
    "        Returns:\n",
    "            [type]: [description] (t, psf): all row vectors\n",
    "        \"\"\"\n",
    "        (freqs, spectrum) = fourier_spectrum(p_b, Fs)\n",
    "        psd = np.abs(spectrum) ** 2\n",
    "        psf = fftshift(ifft(psd))\n",
    "\n",
    "        N = psf.size\n",
    "        t = np.linspace(0, N * 1.0 / Fs, N).reshape((1, -1))\n",
    "        return t, psf\n",
    "\n",
    "    \n",
    "    @staticmethod\n",
    "    def peak_sidelobe_level(psf):\n",
    "        \"\"\"[summary]\n",
    "\n",
    "        Args:\n",
    "            psf ([type] row vector): [description] row vector with shape (1, N)\n",
    "\n",
    "        Returns:\n",
    "            [type]: [description] peak sidelobe level, which is a negative real number.\n",
    "                    -inf means the best, and 0 means the worst.\n",
    "        \"\"\"\n",
    "        psf_abs = np.abs(psf)\n",
    "        psf_abs_sorted = np.sort(psf_abs)\n",
    "\n",
    "        PSL = 20 * np.log10(psf_abs_sorted[0, -2] / psf_abs_sorted[0, -1])\n",
    "        return PSL\n",
    "\n",
    "    @staticmethod\n",
    "    def main_lobe_width(state):\n",
    "        pass\n",
    "\n",
    "    ################################################################\n",
    "    # methods that defines the environment dynamics\n",
    "    ###################################################################\n",
    "\n",
    "    # define helper functions used by execute()\n",
    "    def state_transition(self, actions):\n",
    "        \"\"\"[summary]\n",
    "\n",
    "        Args:\n",
    "            actions ([type]): [description] At, action repr used by the agent\n",
    "\n",
    "        Returns:\n",
    "            [type]: [description] S_(t+1), the next_state of the environment\n",
    "        \"\"\"\n",
    "        actions = self.action_map(\n",
    "            actions)  # convert action repr used by agent to action repr used by envrionment\n",
    "        next_state = self.current_state + actions\n",
    "\n",
    "        # make sure the states values are within range\n",
    "        next_state[next_state > 1] = 1.0\n",
    "        next_state[next_state < -1] = -1.0\n",
    "\n",
    "        return next_state\n",
    "\n",
    "    def compute_reward(self, state):\n",
    "        \"\"\"[summary] Compute the reward associated with the inpute state\n",
    "\n",
    "        Args:\n",
    "            state ([type]): [description]\n",
    "        \"\"\"\n",
    "        p_b = RadarEnvironment.freqD_to_timeD(\n",
    "            state, self.duration, self.basis_freqs, self.Fs)\n",
    "        (t, psf) = RadarEnvironment.point_spread_fn(p_b, self.Fs)\n",
    "        PSL = RadarEnvironment.peak_sidelobe_level(\n",
    "            psf)  # recall it is always a negative scalar\n",
    "\n",
    "        reward = -PSL\n",
    "        return reward\n",
    "\n",
    "    def plot_psf_abs(self, state):\n",
    "\n",
    "        p_b = RadarEnvironment.freqD_to_timeD(\n",
    "            state, self.duration, self.basis_freqs, self.Fs)\n",
    "        (t, psf) = RadarEnvironment.point_spread_fn(p_b, self.Fs)\n",
    "\n",
    "        plt.plot(t[0], np.abs(psf[0]))\n",
    "        plt.title(f'negative PSL is {self.compute_reward(state)}')\n",
    "        plt.show()\n",
    "\n",
    "    def dynamics_fn(self, actions):\n",
    "        \"\"\"The dynamics_fn is a blackbox whose input is current_state and action, \n",
    "        In this implementation, the current_state is contained in \"self\", thus, we don't \n",
    "        explicitly inlude current_state as input.\n",
    "\n",
    "        Args:\n",
    "            actions ([type] N by 1 integer arrays): [description] action repr used by the agent\n",
    "\n",
    "        Returns:\n",
    "            (next_state, reward)\n",
    "        \"\"\"\n",
    "\n",
    "        # define helper functions for computing reward: recall the reward R_(t+1) is due to A_t and S_t,\n",
    "        # thus R_(t + 1) is associated with the reward for state S_(t + 1)\n",
    "\n",
    "        next_state = self.state_transition(actions)\n",
    "        reward = self.compute_reward(next_state)\n",
    "\n",
    "        return next_state, reward\n",
    "\n",
    "    def execute(self, actions):\n",
    "\n",
    "        # increment timestep\n",
    "        self.timestep += 1\n",
    "\n",
    "        # update the current_state\n",
    "        self.current_state, self.reward = self.dynamics_fn(actions)\n",
    "\n",
    "        terminal = False\n",
    "\n",
    "        return self.current_state, terminal, self.reward"
   ]
  },
  {
   "cell_type": "code",
   "execution_count": 19,
   "metadata": {},
   "outputs": [],
   "source": [
    "# test area\n",
    "N = 100\n",
    "max_episode_length = 100\n",
    "basis_freqs_10 = np.random.uniform(low=-100, high=100, size=(N, 1))\n",
    "\n",
    "\n",
    "## Creation of the environment via Environment.create() creates\n",
    "## a wrapper class around the original Environment defined here.\n",
    "## That wrapper mainly keeps track of the number of timesteps.\n",
    "## Environment.create() returns an instance of the wrapped version of your original environment class.\n",
    "\n",
    "radar_env = Environment.create(environment=RadarEnvironment,\n",
    "                               max_episode_timesteps=max_episode_length, basis_freqs=basis_freqs_10)"
   ]
  },
  {
   "cell_type": "markdown",
   "metadata": {},
   "source": [
    "# Agent Setup\n",
    "\n",
    "## Here we configure a type of agent to learn against this environment. There are many agent configurations to choose from, which we will not cover here. We will not discuss what type of agent to choose here -- we will just take a basic agent to train."
   ]
  },
  {
   "cell_type": "code",
   "execution_count": 20,
   "metadata": {},
   "outputs": [],
   "source": [
    "# check the tensorforce agent specs: https://tensorforce.readthedocs.io/en/latest/agents/tensorforce.html\n",
    "# it includes the discount factor\n",
    "\n",
    "agent = Agent.create(\n",
    "    agent='tensorforce', environment=radar_env, update=64,\n",
    "    optimizer=dict(optimizer='adam', learning_rate=1e-3),\n",
    "    objective='policy_gradient', reward_estimation=dict(horizon=1)\n",
    ")"
   ]
  },
  {
   "cell_type": "markdown",
   "metadata": {},
   "source": [
    "# Check: Untrained Agent Performance\n",
    "## The agent just initializes a policy and use that policy"
   ]
  },
  {
   "cell_type": "code",
   "execution_count": 21,
   "metadata": {},
   "outputs": [],
   "source": [
    "# Initialize\n",
    "states = radar_env.reset()\n",
    "\n",
    "internals = agent.initial_internals()\n",
    "terminal = False\n",
    "\n",
    "\n",
    "# Run an episode\n",
    "negative_PSL = []\n",
    "while not terminal:\n",
    "    # ask the agent for an actions\n",
    "    actions, internals = agent.act(states = states, internals = internals, independent=True)\n",
    "\n",
    "    # apply the actions to the environment\n",
    "    states, terminal, reward = radar_env.execute(actions=actions)\n",
    "\n",
    "    # store the reward value\n",
    "    negative_PSL.append(reward)"
   ]
  },
  {
   "cell_type": "code",
   "execution_count": 22,
   "metadata": {},
   "outputs": [
    {
     "data": {
      "image/png": "[encoded data removed]",
      "text/plain": [
       "<Figure size 432x288 with 1 Axes>"
      ]
     },
     "metadata": {
      "needs_background": "light"
     },
     "output_type": "display_data"
    }
   ],
   "source": [
    "radar_env.plot_psf_abs(states)"
   ]
  },
  {
   "cell_type": "markdown",
   "metadata": {},
   "source": [
    "# Train the agent"
   ]
  },
  {
   "cell_type": "code",
   "execution_count": 23,
   "metadata": {},
   "outputs": [
    {
     "ename": "KeyboardInterrupt",
     "evalue": "",
     "output_type": "error",
     "traceback": [
      "\u001b[0;31m---------------------------------------------------------------------------\u001b[0m",
      "\u001b[0;31mKeyboardInterrupt\u001b[0m                         Traceback (most recent call last)",
      "\u001b[0;32m<ipython-input-23-4b618cab0001>\u001b[0m in \u001b[0;36m<module>\u001b[0;34m\u001b[0m\n\u001b[1;32m      6\u001b[0m         \u001b[0mactions\u001b[0m \u001b[0;34m=\u001b[0m \u001b[0magent\u001b[0m\u001b[0;34m.\u001b[0m\u001b[0mact\u001b[0m\u001b[0;34m(\u001b[0m\u001b[0mstates\u001b[0m\u001b[0;34m=\u001b[0m\u001b[0mstates\u001b[0m\u001b[0;34m)\u001b[0m\u001b[0;34m\u001b[0m\u001b[0;34m\u001b[0m\u001b[0m\n\u001b[1;32m      7\u001b[0m         \u001b[0mstates\u001b[0m\u001b[0;34m,\u001b[0m \u001b[0mterminal\u001b[0m\u001b[0;34m,\u001b[0m \u001b[0mreward\u001b[0m \u001b[0;34m=\u001b[0m \u001b[0mradar_env\u001b[0m\u001b[0;34m.\u001b[0m\u001b[0mexecute\u001b[0m\u001b[0;34m(\u001b[0m\u001b[0mactions\u001b[0m\u001b[0;34m=\u001b[0m\u001b[0mactions\u001b[0m\u001b[0;34m)\u001b[0m\u001b[0;34m\u001b[0m\u001b[0;34m\u001b[0m\u001b[0m\n\u001b[0;32m----> 8\u001b[0;31m         \u001b[0magent\u001b[0m\u001b[0;34m.\u001b[0m\u001b[0mobserve\u001b[0m\u001b[0;34m(\u001b[0m\u001b[0mterminal\u001b[0m\u001b[0;34m=\u001b[0m\u001b[0mterminal\u001b[0m\u001b[0;34m,\u001b[0m \u001b[0mreward\u001b[0m\u001b[0;34m=\u001b[0m\u001b[0mreward\u001b[0m\u001b[0;34m)\u001b[0m\u001b[0;34m\u001b[0m\u001b[0;34m\u001b[0m\u001b[0m\n\u001b[0m",
      "\u001b[0;32m~/anaconda3/lib/python3.8/site-packages/tensorforce/agents/agent.py\u001b[0m in \u001b[0;36mobserve\u001b[0;34m(self, reward, terminal, parallel)\u001b[0m\n\u001b[1;32m    556\u001b[0m \u001b[0;34m\u001b[0m\u001b[0m\n\u001b[1;32m    557\u001b[0m             \u001b[0;31m# Model.observe()\u001b[0m\u001b[0;34m\u001b[0m\u001b[0;34m\u001b[0m\u001b[0;34m\u001b[0m\u001b[0m\n\u001b[0;32m--> 558\u001b[0;31m             updated, episodes, updates = self.model.observe(\n\u001b[0m\u001b[1;32m    559\u001b[0m                 \u001b[0mterminal\u001b[0m\u001b[0;34m=\u001b[0m\u001b[0mterminal_tensor\u001b[0m\u001b[0;34m,\u001b[0m \u001b[0mreward\u001b[0m\u001b[0;34m=\u001b[0m\u001b[0mreward_tensor\u001b[0m\u001b[0;34m,\u001b[0m \u001b[0mparallel\u001b[0m\u001b[0;34m=\u001b[0m\u001b[0mparallel_tensor\u001b[0m\u001b[0;34m\u001b[0m\u001b[0;34m\u001b[0m\u001b[0m\n\u001b[1;32m    560\u001b[0m             )\n",
      "\u001b[0;32m~/anaconda3/lib/python3.8/site-packages/tensorforce/core/module.py\u001b[0m in \u001b[0;36mdecorated\u001b[0;34m(self, _initialize, *args, **kwargs)\u001b[0m\n\u001b[1;32m    134\u001b[0m             \u001b[0;31m# Apply function graph\u001b[0m\u001b[0;34m\u001b[0m\u001b[0;34m\u001b[0m\u001b[0;34m\u001b[0m\u001b[0m\n\u001b[1;32m    135\u001b[0m             \u001b[0;32mwith\u001b[0m \u001b[0mself\u001b[0m\u001b[0;34m:\u001b[0m\u001b[0;34m\u001b[0m\u001b[0;34m\u001b[0m\u001b[0m\n\u001b[0;32m--> 136\u001b[0;31m                 \u001b[0moutput_args\u001b[0m \u001b[0;34m=\u001b[0m \u001b[0mfunction_graphs\u001b[0m\u001b[0;34m[\u001b[0m\u001b[0mstr\u001b[0m\u001b[0;34m(\u001b[0m\u001b[0mgraph_params\u001b[0m\u001b[0;34m)\u001b[0m\u001b[0;34m]\u001b[0m\u001b[0;34m(\u001b[0m\u001b[0;34m*\u001b[0m\u001b[0mgraph_args\u001b[0m\u001b[0;34m)\u001b[0m\u001b[0;34m\u001b[0m\u001b[0;34m\u001b[0m\u001b[0m\n\u001b[0m\u001b[1;32m    137\u001b[0m             \u001b[0;32mif\u001b[0m \u001b[0;32mnot\u001b[0m \u001b[0mis_loop_body\u001b[0m\u001b[0;34m:\u001b[0m\u001b[0;34m\u001b[0m\u001b[0;34m\u001b[0m\u001b[0m\n\u001b[1;32m    138\u001b[0m                 return output_signature.args_to_kwargs(\n",
      "\u001b[0;32m~/anaconda3/lib/python3.8/site-packages/tensorflow/python/eager/def_function.py\u001b[0m in \u001b[0;36m__call__\u001b[0;34m(self, *args, **kwds)\u001b[0m\n\u001b[1;32m    883\u001b[0m \u001b[0;34m\u001b[0m\u001b[0m\n\u001b[1;32m    884\u001b[0m       \u001b[0;32mwith\u001b[0m \u001b[0mOptionalXlaContext\u001b[0m\u001b[0;34m(\u001b[0m\u001b[0mself\u001b[0m\u001b[0;34m.\u001b[0m\u001b[0m_jit_compile\u001b[0m\u001b[0;34m)\u001b[0m\u001b[0;34m:\u001b[0m\u001b[0;34m\u001b[0m\u001b[0;34m\u001b[0m\u001b[0m\n\u001b[0;32m--> 885\u001b[0;31m         \u001b[0mresult\u001b[0m \u001b[0;34m=\u001b[0m \u001b[0mself\u001b[0m\u001b[0;34m.\u001b[0m\u001b[0m_call\u001b[0m\u001b[0;34m(\u001b[0m\u001b[0;34m*\u001b[0m\u001b[0margs\u001b[0m\u001b[0;34m,\u001b[0m \u001b[0;34m**\u001b[0m\u001b[0mkwds\u001b[0m\u001b[0;34m)\u001b[0m\u001b[0;34m\u001b[0m\u001b[0;34m\u001b[0m\u001b[0m\n\u001b[0m\u001b[1;32m    886\u001b[0m \u001b[0;34m\u001b[0m\u001b[0m\n\u001b[1;32m    887\u001b[0m       \u001b[0mnew_tracing_count\u001b[0m \u001b[0;34m=\u001b[0m \u001b[0mself\u001b[0m\u001b[0;34m.\u001b[0m\u001b[0mexperimental_get_tracing_count\u001b[0m\u001b[0;34m(\u001b[0m\u001b[0;34m)\u001b[0m\u001b[0;34m\u001b[0m\u001b[0;34m\u001b[0m\u001b[0m\n",
      "\u001b[0;32m~/anaconda3/lib/python3.8/site-packages/tensorflow/python/eager/def_function.py\u001b[0m in \u001b[0;36m_call\u001b[0;34m(self, *args, **kwds)\u001b[0m\n\u001b[1;32m    922\u001b[0m       \u001b[0;31m# In this case we have not created variables on the first call. So we can\u001b[0m\u001b[0;34m\u001b[0m\u001b[0;34m\u001b[0m\u001b[0;34m\u001b[0m\u001b[0m\n\u001b[1;32m    923\u001b[0m       \u001b[0;31m# run the first trace but we should fail if variables are created.\u001b[0m\u001b[0;34m\u001b[0m\u001b[0;34m\u001b[0m\u001b[0;34m\u001b[0m\u001b[0m\n\u001b[0;32m--> 924\u001b[0;31m       \u001b[0mresults\u001b[0m \u001b[0;34m=\u001b[0m \u001b[0mself\u001b[0m\u001b[0;34m.\u001b[0m\u001b[0m_stateful_fn\u001b[0m\u001b[0;34m(\u001b[0m\u001b[0;34m*\u001b[0m\u001b[0margs\u001b[0m\u001b[0;34m,\u001b[0m \u001b[0;34m**\u001b[0m\u001b[0mkwds\u001b[0m\u001b[0;34m)\u001b[0m\u001b[0;34m\u001b[0m\u001b[0;34m\u001b[0m\u001b[0m\n\u001b[0m\u001b[1;32m    925\u001b[0m       \u001b[0;32mif\u001b[0m \u001b[0mself\u001b[0m\u001b[0;34m.\u001b[0m\u001b[0m_created_variables\u001b[0m \u001b[0;32mand\u001b[0m \u001b[0;32mnot\u001b[0m \u001b[0mALLOW_DYNAMIC_VARIABLE_CREATION\u001b[0m\u001b[0;34m:\u001b[0m\u001b[0;34m\u001b[0m\u001b[0;34m\u001b[0m\u001b[0m\n\u001b[1;32m    926\u001b[0m         raise ValueError(\"Creating variables on a non-first call to a function\"\n",
      "\u001b[0;32m~/anaconda3/lib/python3.8/site-packages/tensorflow/python/eager/function.py\u001b[0m in \u001b[0;36m__call__\u001b[0;34m(self, *args, **kwargs)\u001b[0m\n\u001b[1;32m   3037\u001b[0m       (graph_function,\n\u001b[1;32m   3038\u001b[0m        filtered_flat_args) = self._maybe_define_function(args, kwargs)\n\u001b[0;32m-> 3039\u001b[0;31m     return graph_function._call_flat(\n\u001b[0m\u001b[1;32m   3040\u001b[0m         filtered_flat_args, captured_inputs=graph_function.captured_inputs)  # pylint: disable=protected-access\n\u001b[1;32m   3041\u001b[0m \u001b[0;34m\u001b[0m\u001b[0m\n",
      "\u001b[0;32m~/anaconda3/lib/python3.8/site-packages/tensorflow/python/eager/function.py\u001b[0m in \u001b[0;36m_call_flat\u001b[0;34m(self, args, captured_inputs, cancellation_manager)\u001b[0m\n\u001b[1;32m   1961\u001b[0m         and executing_eagerly):\n\u001b[1;32m   1962\u001b[0m       \u001b[0;31m# No tape is watching; skip to running the function.\u001b[0m\u001b[0;34m\u001b[0m\u001b[0;34m\u001b[0m\u001b[0;34m\u001b[0m\u001b[0m\n\u001b[0;32m-> 1963\u001b[0;31m       return self._build_call_outputs(self._inference_function.call(\n\u001b[0m\u001b[1;32m   1964\u001b[0m           ctx, args, cancellation_manager=cancellation_manager))\n\u001b[1;32m   1965\u001b[0m     forward_backward = self._select_forward_and_backward_functions(\n",
      "\u001b[0;32m~/anaconda3/lib/python3.8/site-packages/tensorflow/python/eager/function.py\u001b[0m in \u001b[0;36mcall\u001b[0;34m(self, ctx, args, cancellation_manager)\u001b[0m\n\u001b[1;32m    589\u001b[0m       \u001b[0;32mwith\u001b[0m \u001b[0m_InterpolateFunctionError\u001b[0m\u001b[0;34m(\u001b[0m\u001b[0mself\u001b[0m\u001b[0;34m)\u001b[0m\u001b[0;34m:\u001b[0m\u001b[0;34m\u001b[0m\u001b[0;34m\u001b[0m\u001b[0m\n\u001b[1;32m    590\u001b[0m         \u001b[0;32mif\u001b[0m \u001b[0mcancellation_manager\u001b[0m \u001b[0;32mis\u001b[0m \u001b[0;32mNone\u001b[0m\u001b[0;34m:\u001b[0m\u001b[0;34m\u001b[0m\u001b[0;34m\u001b[0m\u001b[0m\n\u001b[0;32m--> 591\u001b[0;31m           outputs = execute.execute(\n\u001b[0m\u001b[1;32m    592\u001b[0m               \u001b[0mstr\u001b[0m\u001b[0;34m(\u001b[0m\u001b[0mself\u001b[0m\u001b[0;34m.\u001b[0m\u001b[0msignature\u001b[0m\u001b[0;34m.\u001b[0m\u001b[0mname\u001b[0m\u001b[0;34m)\u001b[0m\u001b[0;34m,\u001b[0m\u001b[0;34m\u001b[0m\u001b[0;34m\u001b[0m\u001b[0m\n\u001b[1;32m    593\u001b[0m               \u001b[0mnum_outputs\u001b[0m\u001b[0;34m=\u001b[0m\u001b[0mself\u001b[0m\u001b[0;34m.\u001b[0m\u001b[0m_num_outputs\u001b[0m\u001b[0;34m,\u001b[0m\u001b[0;34m\u001b[0m\u001b[0;34m\u001b[0m\u001b[0m\n",
      "\u001b[0;32m~/anaconda3/lib/python3.8/site-packages/tensorflow/python/eager/execute.py\u001b[0m in \u001b[0;36mquick_execute\u001b[0;34m(op_name, num_outputs, inputs, attrs, ctx, name)\u001b[0m\n\u001b[1;32m     57\u001b[0m   \u001b[0;32mtry\u001b[0m\u001b[0;34m:\u001b[0m\u001b[0;34m\u001b[0m\u001b[0;34m\u001b[0m\u001b[0m\n\u001b[1;32m     58\u001b[0m     \u001b[0mctx\u001b[0m\u001b[0;34m.\u001b[0m\u001b[0mensure_initialized\u001b[0m\u001b[0;34m(\u001b[0m\u001b[0;34m)\u001b[0m\u001b[0;34m\u001b[0m\u001b[0;34m\u001b[0m\u001b[0m\n\u001b[0;32m---> 59\u001b[0;31m     tensors = pywrap_tfe.TFE_Py_Execute(ctx._handle, device_name, op_name,\n\u001b[0m\u001b[1;32m     60\u001b[0m                                         inputs, attrs, num_outputs)\n\u001b[1;32m     61\u001b[0m   \u001b[0;32mexcept\u001b[0m \u001b[0mcore\u001b[0m\u001b[0;34m.\u001b[0m\u001b[0m_NotOkStatusException\u001b[0m \u001b[0;32mas\u001b[0m \u001b[0me\u001b[0m\u001b[0;34m:\u001b[0m\u001b[0;34m\u001b[0m\u001b[0;34m\u001b[0m\u001b[0m\n",
      "\u001b[0;31mKeyboardInterrupt\u001b[0m: "
     ]
    }
   ],
   "source": [
    "# Train for 200 episodes\n",
    "for _ in range(200):\n",
    "    states = radar_env.reset()\n",
    "    terminal = False\n",
    "    while not terminal:\n",
    "        actions = agent.act(states=states)\n",
    "        states, terminal, reward = radar_env.execute(actions=actions)\n",
    "        agent.observe(terminal=terminal, reward=reward)"
   ]
  },
  {
   "cell_type": "code",
   "execution_count": null,
   "metadata": {},
   "outputs": [
    {
     "data": {
      "image/png": "[encoded data removed]",
      "text/plain": [
       "<Figure size 432x288 with 1 Axes>"
      ]
     },
     "metadata": {
      "needs_background": "light"
     },
     "output_type": "display_data"
    }
   ],
   "source": [
    "radar_env.plot_psf_abs(states)"
   ]
  },
  {
   "cell_type": "markdown",
   "metadata": {},
   "source": [
    "# Trained Agent Performance"
   ]
  }
 ],
 "metadata": {
  "interpreter": {
   "hash": "3239e8400f967b912aa5ff52c1d70244e44ae8ab469e58fe9dd95ca3971341f4"
  },
  "kernelspec": {
   "display_name": "Python 3.8.8 64-bit ('base': conda)",
   "language": "python",
   "name": "python3"
  },
  "language_info": {
   "codemirror_mode": {
    "name": "ipython",
    "version": 3
   },
   "file_extension": ".py",
   "mimetype": "text/x-python",
   "name": "python",
   "nbconvert_exporter": "python",
   "pygments_lexer": "ipython3",
   "version": "3.8.8"
  },
  "orig_nbformat": 4
 },
 "nbformat": 4,
 "nbformat_minor": 2
}
