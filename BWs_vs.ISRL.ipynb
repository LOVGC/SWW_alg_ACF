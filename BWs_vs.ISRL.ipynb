{
 "cells": [
  {
   "cell_type": "code",
   "execution_count": 53,
   "metadata": {},
   "outputs": [],
   "source": [
    "import matplotlib.pyplot as plt\n",
    "import plotly.graph_objects as go\n",
    "import plotly.express as px\n",
    "\n",
    "\n",
    "import numpy as np\n",
    "\n",
    "from freq_stacking_LFM_ACF_utils import *"
   ]
  },
  {
   "cell_type": "code",
   "execution_count": 54,
   "metadata": {},
   "outputs": [],
   "source": [
    "# parameters\n",
    "# min and max RF center freqs in Hz\n",
    "fc_min = 500e6\n",
    "fc_max = 1.48e9\n",
    "\n",
    "delta_coeff = 0.01\n",
    "\n",
    "# min and max Bws in Hz\n",
    "Bmin = 10e6\n",
    "Bmax = 20e6\n",
    "delta_B = 1e6\n",
    "\n",
    "\n",
    "max_delay_time = 5e-6\n",
    "delay_time = 0.0\n",
    "\n",
    "# chirp rate\n",
    "chirp_rate = 50e6/10e-6\n",
    "\n",
    "\n",
    "num_subpulses = 50\n",
    "\n",
    "# maximum episode length\n",
    "max_episode_timesteps = 3000\n",
    "\n",
    "training_num = 200 # how many trajectories \n"
   ]
  },
  {
   "cell_type": "code",
   "execution_count": 55,
   "metadata": {},
   "outputs": [],
   "source": [
    "# Derived parameters\n",
    "Fs_baseband = Bmax  # baseband samp freq in Hz\n",
    "Fs_SWW_max = fc_max + Bmax / 2 - (fc_min - Bmax / 2)\n",
    "\n",
    "# time window size\n",
    "max_subpulse_duration = Bmax / chirp_rate\n",
    "time_window_size = 10 * max_subpulse_duration + max_delay_time\n",
    "\n",
    "\n",
    "# compute the state vector size\n",
    "LFM_rx_subpulses, LFM_ref_subpulses = generate_LFM_rx_ref_subpulses_for_ACF(\n",
    "    BW_RF_array=np.array([20e6]),\n",
    "    chirp_rate=chirp_rate,\n",
    "    time_window_size=time_window_size,\n",
    "    Fs_baseband=Fs_baseband\n",
    ")\n",
    "\n",
    "N_max = compute_Nup_f(LFM_rx_subpulses[0], Fs_baseband, Fs_SWW_max) # the state vector size\n"
   ]
  },
  {
   "cell_type": "code",
   "execution_count": 56,
   "metadata": {},
   "outputs": [],
   "source": [
    "def compute_D_f_d_t(fc_RF_freqs, BW_RF_array, weights):\n",
    "\n",
    "    LFM_rx_subpulses, LFM_ref_subpulses = generate_LFM_rx_ref_subpulses_for_ACF(\n",
    "        BW_RF_array, chirp_rate, time_window_size, Fs_baseband\n",
    "    )\n",
    "\n",
    "    # filter BWs\n",
    "    Bs_array = BW_RF_array\n",
    "    D_f, d_t = freq_stacking_v2(\n",
    "        LFM_rx_subpulses,\n",
    "        LFM_ref_subpulses,\n",
    "        fc_RF_freqs,\n",
    "        BW_RF_array,\n",
    "        Bs_array,\n",
    "        Fs_baseband,\n",
    "        weights,\n",
    "    )\n",
    "\n",
    "    # compute times and freqs\n",
    "    f_RF_sww_center, BW_RF_sww = compute_para_for_RF_sww(fc_RF_freqs, BW_RF_array)\n",
    "    sww_samp_freq = BW_RF_sww\n",
    "\n",
    "    performance = -int_sidelobe_ratio(np.abs(d_t))\n",
    "    times = fftshift(np.fft.fftfreq(n=D_f.size, d = sww_samp_freq) * D_f.size)\n",
    "\n",
    "    freqs = fftshift(np.fft.fftfreq(n=D_f.size, d = 1/sww_samp_freq))\n",
    "\n",
    "    return freqs, D_f, times, d_t, performance\n",
    "\n",
    "\n",
    "def normalized_Df_dt_in_dB(fc_RF_freqs, BW_RF_array, weights):\n",
    "\n",
    "    freqs, D_f, times, d_t, performance = compute_D_f_d_t(fc_RF_freqs, BW_RF_array, weights)\n",
    "    \n",
    "    D_f[D_f == 0] = 1e-16 # avoid divide by zeros\n",
    "    norm_fac = np.max( np.abs(D_f) )\n",
    "    D_f_in_db = 20*np.log10(np.abs(D_f) / norm_fac)\n",
    "\n",
    "\n",
    "    d_t[d_t == 0] = 1e-16 # to avoid divide by zero errors\n",
    "    norm_fac = np.max(np.abs(d_t))  \n",
    "    d_t_in_db =  20*np.log10( np.abs(d_t)  / norm_fac)\n",
    "\n",
    "    return freqs, D_f_in_db, times, d_t_in_db, performance\n",
    "    \n"
   ]
  },
  {
   "cell_type": "code",
   "execution_count": 57,
   "metadata": {},
   "outputs": [],
   "source": [
    "# cener freqs are all the same\n",
    "fc_RF_freqs = fc_min + np.arange(num_subpulses) * Bmin"
   ]
  },
  {
   "cell_type": "markdown",
   "metadata": {},
   "source": [
    "- center freqs: uniformly spaced with 10MHz, \n",
    "- BW: all 10MHz, \n",
    "- Weights: all 1's, \n",
    "- (spectrum: non-overlapping spectrums)"
   ]
  },
  {
   "cell_type": "code",
   "execution_count": 58,
   "metadata": {},
   "outputs": [],
   "source": [
    "\n",
    "BWs = np.linspace(Bmin, Bmax, 100)\n",
    "performance_list = []\n",
    "\n",
    "for bw in BWs:\n",
    "    fc_RF_freqs = fc_min + np.arange(num_subpulses) * Bmin\n",
    "    BW_RF_array = bw * np.ones_like(fc_RF_freqs)\n",
    "    weights = np.ones(num_subpulses)\n",
    "\n",
    "    freqs1, D_f_in_db1, times1, d_t_in_db1, performance1 = normalized_Df_dt_in_dB(\n",
    "        fc_RF_freqs, BW_RF_array, weights\n",
    "    )\n",
    "    performance_list.append(performance1)\n"
   ]
  },
  {
   "cell_type": "code",
   "execution_count": 59,
   "metadata": {},
   "outputs": [
    {
     "data": {
      "application/vnd.plotly.v1+json": {
       "config": {
        "plotlyServerURL": "https://plot.ly"
       },
       "data": [
        {
         "mode": "lines",
         "name": "ISLR = 29.237624505826773",
         "type": "scatter",
         "x": [
          10000000,
          10101010.1010101,
          10202020.202020202,
          10303030.303030303,
          10404040.404040404,
          10505050.505050505,
          10606060.606060605,
          10707070.707070706,
          10808080.808080807,
          10909090.909090908,
          11010101.01010101,
          11111111.111111112,
          11212121.212121211,
          11313131.313131314,
          11414141.414141415,
          11515151.515151516,
          11616161.616161617,
          11717171.717171717,
          11818181.818181818,
          11919191.91919192,
          12020202.02020202,
          12121212.121212121,
          12222222.222222222,
          12323232.323232323,
          12424242.424242424,
          12525252.525252525,
          12626262.626262626,
          12727272.727272727,
          12828282.828282828,
          12929292.929292928,
          13030303.030303031,
          13131313.13131313,
          13232323.232323233,
          13333333.333333332,
          13434343.434343435,
          13535353.535353536,
          13636363.636363637,
          13737373.737373738,
          13838383.838383839,
          13939393.93939394,
          14040404.04040404,
          14141414.141414141,
          14242424.242424242,
          14343434.343434343,
          14444444.444444444,
          14545454.545454545,
          14646464.646464646,
          14747474.747474747,
          14848484.848484848,
          14949494.94949495,
          15050505.05050505,
          15151515.151515152,
          15252525.252525251,
          15353535.353535354,
          15454545.454545453,
          15555555.555555556,
          15656565.656565655,
          15757575.757575758,
          15858585.858585857,
          15959595.95959596,
          16060606.06060606,
          16161616.161616161,
          16262626.262626262,
          16363636.363636363,
          16464646.464646464,
          16565656.565656565,
          16666666.666666666,
          16767676.767676767,
          16868686.86868687,
          16969696.96969697,
          17070707.07070707,
          17171717.17171717,
          17272727.272727273,
          17373737.373737372,
          17474747.474747475,
          17575757.575757574,
          17676767.676767677,
          17777777.777777776,
          17878787.87878788,
          17979797.979797978,
          18080808.08080808,
          18181818.18181818,
          18282828.282828283,
          18383838.383838385,
          18484848.484848484,
          18585858.585858583,
          18686868.686868686,
          18787878.78787879,
          18888888.888888888,
          18989898.989898987,
          19090909.09090909,
          19191919.191919193,
          19292929.29292929,
          19393939.39393939,
          19494949.494949494,
          19595959.595959596,
          19696969.696969695,
          19797979.7979798,
          19898989.8989899,
          20000000
         ],
         "y": [
          19.91565452049015,
          22.14440951918523,
          22.74566412883769,
          24.813146265652453,
          25.65167505262756,
          28.17980555517043,
          28.723831750770067,
          29.269845641355026,
          33.619975938989015,
          33.61880063025188,
          32.83877307523046,
          32.710717383566845,
          32.888403868070164,
          30.822836167819357,
          30.60096090413031,
          28.364111414757105,
          28.414136127245534,
          28.388958669744923,
          26.492894991922398,
          26.363105909230043,
          23.436068774417784,
          23.503426673000437,
          23.666649057104326,
          22.055135232615058,
          22.215202586451245,
          20.593984794675993,
          20.618755122528487,
          20.68782860882189,
          19.390506837925074,
          19.433524013163833,
          19.06576407118997,
          19.17014688762023,
          19.221909635225202,
          18.891629471412784,
          18.986733418321194,
          19.00527432003161,
          19.073513308411574,
          19.217449111934023,
          19.425712525102384,
          19.564923027182346,
          20.12092003313134,
          20.47402143263072,
          20.649513655703483,
          21.26128496622034,
          21.507493532052596,
          22.078189081006304,
          22.311832703826646,
          22.54544993756909,
          23.090554304706032,
          23.49723456826917,
          22.826543171198566,
          22.696099145359145,
          22.500488414799015,
          22.437762101984895,
          22.375549146544586,
          22.427858126273826,
          22.342116775346756,
          22.23424574229781,
          22.19827534653251,
          22.03502628683321,
          22.340756705858045,
          22.347329110481805,
          22.48678426908687,
          22.430967522538374,
          22.3765236829901,
          22.30398009164572,
          22.231866609354775,
          22.136457583710786,
          22.167414487599526,
          22.17867895453502,
          22.722272921662814,
          22.785183464486526,
          23.13409924525306,
          23.28197604010885,
          23.28348913967727,
          23.690143352176463,
          23.77510997176927,
          24.400224507851497,
          24.386801886428614,
          24.409436637657752,
          24.32631164520454,
          24.448756229046108,
          24.797870675813382,
          24.797363539698853,
          24.823666512220363,
          25.352023644415333,
          25.50970759992373,
          26.467681035720116,
          26.437297083124406,
          26.967158830375215,
          26.682176260200535,
          26.78158082564799,
          27.822606044922843,
          27.2449572563764,
          27.822130775700042,
          29.175380412779415,
          28.13768413900889,
          30.36877994079639,
          30.10321374785127,
          29.237624505826773
         ]
        }
       ],
       "layout": {
        "template": {
         "data": {
          "bar": [
           {
            "error_x": {
             "color": "#2a3f5f"
            },
            "error_y": {
             "color": "#2a3f5f"
            },
            "marker": {
             "line": {
              "color": "#E5ECF6",
              "width": 0.5
             },
             "pattern": {
              "fillmode": "overlay",
              "size": 10,
              "solidity": 0.2
             }
            },
            "type": "bar"
           }
          ],
          "barpolar": [
           {
            "marker": {
             "line": {
              "color": "#E5ECF6",
              "width": 0.5
             },
             "pattern": {
              "fillmode": "overlay",
              "size": 10,
              "solidity": 0.2
             }
            },
            "type": "barpolar"
           }
          ],
          "carpet": [
           {
            "aaxis": {
             "endlinecolor": "#2a3f5f",
             "gridcolor": "white",
             "linecolor": "white",
             "minorgridcolor": "white",
             "startlinecolor": "#2a3f5f"
            },
            "baxis": {
             "endlinecolor": "#2a3f5f",
             "gridcolor": "white",
             "linecolor": "white",
             "minorgridcolor": "white",
             "startlinecolor": "#2a3f5f"
            },
            "type": "carpet"
           }
          ],
          "choropleth": [
           {
            "colorbar": {
             "outlinewidth": 0,
             "ticks": ""
            },
            "type": "choropleth"
           }
          ],
          "contour": [
           {
            "colorbar": {
             "outlinewidth": 0,
             "ticks": ""
            },
            "colorscale": [
             [
              0,
              "#0d0887"
             ],
             [
              0.1111111111111111,
              "#46039f"
             ],
             [
              0.2222222222222222,
              "#7201a8"
             ],
             [
              0.3333333333333333,
              "#9c179e"
             ],
             [
              0.4444444444444444,
              "#bd3786"
             ],
             [
              0.5555555555555556,
              "#d8576b"
             ],
             [
              0.6666666666666666,
              "#ed7953"
             ],
             [
              0.7777777777777778,
              "#fb9f3a"
             ],
             [
              0.8888888888888888,
              "#fdca26"
             ],
             [
              1,
              "#f0f921"
             ]
            ],
            "type": "contour"
           }
          ],
          "contourcarpet": [
           {
            "colorbar": {
             "outlinewidth": 0,
             "ticks": ""
            },
            "type": "contourcarpet"
           }
          ],
          "heatmap": [
           {
            "colorbar": {
             "outlinewidth": 0,
             "ticks": ""
            },
            "colorscale": [
             [
              0,
              "#0d0887"
             ],
             [
              0.1111111111111111,
              "#46039f"
             ],
             [
              0.2222222222222222,
              "#7201a8"
             ],
             [
              0.3333333333333333,
              "#9c179e"
             ],
             [
              0.4444444444444444,
              "#bd3786"
             ],
             [
              0.5555555555555556,
              "#d8576b"
             ],
             [
              0.6666666666666666,
              "#ed7953"
             ],
             [
              0.7777777777777778,
              "#fb9f3a"
             ],
             [
              0.8888888888888888,
              "#fdca26"
             ],
             [
              1,
              "#f0f921"
             ]
            ],
            "type": "heatmap"
           }
          ],
          "heatmapgl": [
           {
            "colorbar": {
             "outlinewidth": 0,
             "ticks": ""
            },
            "colorscale": [
             [
              0,
              "#0d0887"
             ],
             [
              0.1111111111111111,
              "#46039f"
             ],
             [
              0.2222222222222222,
              "#7201a8"
             ],
             [
              0.3333333333333333,
              "#9c179e"
             ],
             [
              0.4444444444444444,
              "#bd3786"
             ],
             [
              0.5555555555555556,
              "#d8576b"
             ],
             [
              0.6666666666666666,
              "#ed7953"
             ],
             [
              0.7777777777777778,
              "#fb9f3a"
             ],
             [
              0.8888888888888888,
              "#fdca26"
             ],
             [
              1,
              "#f0f921"
             ]
            ],
            "type": "heatmapgl"
           }
          ],
          "histogram": [
           {
            "marker": {
             "pattern": {
              "fillmode": "overlay",
              "size": 10,
              "solidity": 0.2
             }
            },
            "type": "histogram"
           }
          ],
          "histogram2d": [
           {
            "colorbar": {
             "outlinewidth": 0,
             "ticks": ""
            },
            "colorscale": [
             [
              0,
              "#0d0887"
             ],
             [
              0.1111111111111111,
              "#46039f"
             ],
             [
              0.2222222222222222,
              "#7201a8"
             ],
             [
              0.3333333333333333,
              "#9c179e"
             ],
             [
              0.4444444444444444,
              "#bd3786"
             ],
             [
              0.5555555555555556,
              "#d8576b"
             ],
             [
              0.6666666666666666,
              "#ed7953"
             ],
             [
              0.7777777777777778,
              "#fb9f3a"
             ],
             [
              0.8888888888888888,
              "#fdca26"
             ],
             [
              1,
              "#f0f921"
             ]
            ],
            "type": "histogram2d"
           }
          ],
          "histogram2dcontour": [
           {
            "colorbar": {
             "outlinewidth": 0,
             "ticks": ""
            },
            "colorscale": [
             [
              0,
              "#0d0887"
             ],
             [
              0.1111111111111111,
              "#46039f"
             ],
             [
              0.2222222222222222,
              "#7201a8"
             ],
             [
              0.3333333333333333,
              "#9c179e"
             ],
             [
              0.4444444444444444,
              "#bd3786"
             ],
             [
              0.5555555555555556,
              "#d8576b"
             ],
             [
              0.6666666666666666,
              "#ed7953"
             ],
             [
              0.7777777777777778,
              "#fb9f3a"
             ],
             [
              0.8888888888888888,
              "#fdca26"
             ],
             [
              1,
              "#f0f921"
             ]
            ],
            "type": "histogram2dcontour"
           }
          ],
          "mesh3d": [
           {
            "colorbar": {
             "outlinewidth": 0,
             "ticks": ""
            },
            "type": "mesh3d"
           }
          ],
          "parcoords": [
           {
            "line": {
             "colorbar": {
              "outlinewidth": 0,
              "ticks": ""
             }
            },
            "type": "parcoords"
           }
          ],
          "pie": [
           {
            "automargin": true,
            "type": "pie"
           }
          ],
          "scatter": [
           {
            "marker": {
             "colorbar": {
              "outlinewidth": 0,
              "ticks": ""
             }
            },
            "type": "scatter"
           }
          ],
          "scatter3d": [
           {
            "line": {
             "colorbar": {
              "outlinewidth": 0,
              "ticks": ""
             }
            },
            "marker": {
             "colorbar": {
              "outlinewidth": 0,
              "ticks": ""
             }
            },
            "type": "scatter3d"
           }
          ],
          "scattercarpet": [
           {
            "marker": {
             "colorbar": {
              "outlinewidth": 0,
              "ticks": ""
             }
            },
            "type": "scattercarpet"
           }
          ],
          "scattergeo": [
           {
            "marker": {
             "colorbar": {
              "outlinewidth": 0,
              "ticks": ""
             }
            },
            "type": "scattergeo"
           }
          ],
          "scattergl": [
           {
            "marker": {
             "colorbar": {
              "outlinewidth": 0,
              "ticks": ""
             }
            },
            "type": "scattergl"
           }
          ],
          "scattermapbox": [
           {
            "marker": {
             "colorbar": {
              "outlinewidth": 0,
              "ticks": ""
             }
            },
            "type": "scattermapbox"
           }
          ],
          "scatterpolar": [
           {
            "marker": {
             "colorbar": {
              "outlinewidth": 0,
              "ticks": ""
             }
            },
            "type": "scatterpolar"
           }
          ],
          "scatterpolargl": [
           {
            "marker": {
             "colorbar": {
              "outlinewidth": 0,
              "ticks": ""
             }
            },
            "type": "scatterpolargl"
           }
          ],
          "scatterternary": [
           {
            "marker": {
             "colorbar": {
              "outlinewidth": 0,
              "ticks": ""
             }
            },
            "type": "scatterternary"
           }
          ],
          "surface": [
           {
            "colorbar": {
             "outlinewidth": 0,
             "ticks": ""
            },
            "colorscale": [
             [
              0,
              "#0d0887"
             ],
             [
              0.1111111111111111,
              "#46039f"
             ],
             [
              0.2222222222222222,
              "#7201a8"
             ],
             [
              0.3333333333333333,
              "#9c179e"
             ],
             [
              0.4444444444444444,
              "#bd3786"
             ],
             [
              0.5555555555555556,
              "#d8576b"
             ],
             [
              0.6666666666666666,
              "#ed7953"
             ],
             [
              0.7777777777777778,
              "#fb9f3a"
             ],
             [
              0.8888888888888888,
              "#fdca26"
             ],
             [
              1,
              "#f0f921"
             ]
            ],
            "type": "surface"
           }
          ],
          "table": [
           {
            "cells": {
             "fill": {
              "color": "#EBF0F8"
             },
             "line": {
              "color": "white"
             }
            },
            "header": {
             "fill": {
              "color": "#C8D4E3"
             },
             "line": {
              "color": "white"
             }
            },
            "type": "table"
           }
          ]
         },
         "layout": {
          "annotationdefaults": {
           "arrowcolor": "#2a3f5f",
           "arrowhead": 0,
           "arrowwidth": 1
          },
          "autotypenumbers": "strict",
          "coloraxis": {
           "colorbar": {
            "outlinewidth": 0,
            "ticks": ""
           }
          },
          "colorscale": {
           "diverging": [
            [
             0,
             "#8e0152"
            ],
            [
             0.1,
             "#c51b7d"
            ],
            [
             0.2,
             "#de77ae"
            ],
            [
             0.3,
             "#f1b6da"
            ],
            [
             0.4,
             "#fde0ef"
            ],
            [
             0.5,
             "#f7f7f7"
            ],
            [
             0.6,
             "#e6f5d0"
            ],
            [
             0.7,
             "#b8e186"
            ],
            [
             0.8,
             "#7fbc41"
            ],
            [
             0.9,
             "#4d9221"
            ],
            [
             1,
             "#276419"
            ]
           ],
           "sequential": [
            [
             0,
             "#0d0887"
            ],
            [
             0.1111111111111111,
             "#46039f"
            ],
            [
             0.2222222222222222,
             "#7201a8"
            ],
            [
             0.3333333333333333,
             "#9c179e"
            ],
            [
             0.4444444444444444,
             "#bd3786"
            ],
            [
             0.5555555555555556,
             "#d8576b"
            ],
            [
             0.6666666666666666,
             "#ed7953"
            ],
            [
             0.7777777777777778,
             "#fb9f3a"
            ],
            [
             0.8888888888888888,
             "#fdca26"
            ],
            [
             1,
             "#f0f921"
            ]
           ],
           "sequentialminus": [
            [
             0,
             "#0d0887"
            ],
            [
             0.1111111111111111,
             "#46039f"
            ],
            [
             0.2222222222222222,
             "#7201a8"
            ],
            [
             0.3333333333333333,
             "#9c179e"
            ],
            [
             0.4444444444444444,
             "#bd3786"
            ],
            [
             0.5555555555555556,
             "#d8576b"
            ],
            [
             0.6666666666666666,
             "#ed7953"
            ],
            [
             0.7777777777777778,
             "#fb9f3a"
            ],
            [
             0.8888888888888888,
             "#fdca26"
            ],
            [
             1,
             "#f0f921"
            ]
           ]
          },
          "colorway": [
           "#636efa",
           "#EF553B",
           "#00cc96",
           "#ab63fa",
           "#FFA15A",
           "#19d3f3",
           "#FF6692",
           "#B6E880",
           "#FF97FF",
           "#FECB52"
          ],
          "font": {
           "color": "#2a3f5f"
          },
          "geo": {
           "bgcolor": "white",
           "lakecolor": "white",
           "landcolor": "#E5ECF6",
           "showlakes": true,
           "showland": true,
           "subunitcolor": "white"
          },
          "hoverlabel": {
           "align": "left"
          },
          "hovermode": "closest",
          "mapbox": {
           "style": "light"
          },
          "paper_bgcolor": "white",
          "plot_bgcolor": "#E5ECF6",
          "polar": {
           "angularaxis": {
            "gridcolor": "white",
            "linecolor": "white",
            "ticks": ""
           },
           "bgcolor": "#E5ECF6",
           "radialaxis": {
            "gridcolor": "white",
            "linecolor": "white",
            "ticks": ""
           }
          },
          "scene": {
           "xaxis": {
            "backgroundcolor": "#E5ECF6",
            "gridcolor": "white",
            "gridwidth": 2,
            "linecolor": "white",
            "showbackground": true,
            "ticks": "",
            "zerolinecolor": "white"
           },
           "yaxis": {
            "backgroundcolor": "#E5ECF6",
            "gridcolor": "white",
            "gridwidth": 2,
            "linecolor": "white",
            "showbackground": true,
            "ticks": "",
            "zerolinecolor": "white"
           },
           "zaxis": {
            "backgroundcolor": "#E5ECF6",
            "gridcolor": "white",
            "gridwidth": 2,
            "linecolor": "white",
            "showbackground": true,
            "ticks": "",
            "zerolinecolor": "white"
           }
          },
          "shapedefaults": {
           "line": {
            "color": "#2a3f5f"
           }
          },
          "ternary": {
           "aaxis": {
            "gridcolor": "white",
            "linecolor": "white",
            "ticks": ""
           },
           "baxis": {
            "gridcolor": "white",
            "linecolor": "white",
            "ticks": ""
           },
           "bgcolor": "#E5ECF6",
           "caxis": {
            "gridcolor": "white",
            "linecolor": "white",
            "ticks": ""
           }
          },
          "title": {
           "x": 0.05
          },
          "xaxis": {
           "automargin": true,
           "gridcolor": "white",
           "linecolor": "white",
           "ticks": "",
           "title": {
            "standoff": 15
           },
           "zerolinecolor": "white",
           "zerolinewidth": 2
          },
          "yaxis": {
           "automargin": true,
           "gridcolor": "white",
           "linecolor": "white",
           "ticks": "",
           "title": {
            "standoff": 15
           },
           "zerolinecolor": "white",
           "zerolinewidth": 2
          }
         }
        }
       }
      }
     },
     "metadata": {},
     "output_type": "display_data"
    }
   ],
   "source": [
    "# plot time\n",
    "fig1 = go.Figure()  # create a figure\n",
    "fig1.add_trace(\n",
    "    go.Scatter(x= BWs, y=performance_list, mode=\"lines\", name=f\"ISLR = {performance1}\")\n",
    ")  # the name attribute is the legend\n",
    "\n",
    "\n"
   ]
  },
  {
   "cell_type": "code",
   "execution_count": null,
   "metadata": {},
   "outputs": [],
   "source": []
  },
  {
   "cell_type": "code",
   "execution_count": null,
   "metadata": {},
   "outputs": [],
   "source": []
  }
 ],
 "metadata": {
  "interpreter": {
   "hash": "3239e8400f967b912aa5ff52c1d70244e44ae8ab469e58fe9dd95ca3971341f4"
  },
  "kernelspec": {
   "display_name": "Python 3.8.8 64-bit ('base': conda)",
   "language": "python",
   "name": "python3"
  },
  "language_info": {
   "codemirror_mode": {
    "name": "ipython",
    "version": 3
   },
   "file_extension": ".py",
   "mimetype": "text/x-python",
   "name": "python",
   "nbconvert_exporter": "python",
   "pygments_lexer": "ipython3",
   "version": "3.8.8"
  },
  "orig_nbformat": 4
 },
 "nbformat": 4,
 "nbformat_minor": 2
}
